{
 "cells": [
  {
   "cell_type": "code",
   "execution_count": 1,
   "metadata": {
    "slideshow": {
     "slide_type": "slide"
    }
   },
   "outputs": [
    {
     "name": "stdout",
     "output_type": "stream",
     "text": [
      "https://opendap.co-ops.nos.noaa.gov/ioos-dif-sos/SOS?service=SOS&request=GetObservation&version=1.0.0&observedProperty=water_surface_height_above_reference_datum&offering=urn:ioos:station:NOAA.NOS.CO-OPS:8454000&responseFormat=text/csv&eventTime=2018-07-09T00:00:00Z/2018-07-10T00:00:00Z&result=VerticalDatum==urn:ogc:def:datum:epsg::5103&dataType=PreliminarySixMinute\n"
     ]
    }
   ],
   "source": [
    "import pendulum\n",
    "\n",
    "variable = 'water_surface_height_above_reference_datum'\n",
    "yesterday = pendulum.yesterday()\n",
    "today = pendulum.today()\n",
    "\n",
    "buoy = '8454000'\n",
    "\n",
    "url = (\n",
    "    'https://opendap.co-ops.nos.noaa.gov/ioos-dif-sos/SOS?'\n",
    "    'service=SOS'\n",
    "    '&request=GetObservation'\n",
    "    '&version=1.0.0'\n",
    "    f'&observedProperty={variable}'\n",
    "    f'&offering=urn:ioos:station:NOAA.NOS.CO-OPS:{buoy}'\n",
    "    '&responseFormat=text/csv'\n",
    "    f'&eventTime={yesterday:%Y-%m-%dT%H:%M:%SZ}/'\n",
    "    f'{today:%Y-%m-%dT%H:%M:%SZ}'\n",
    "    '&result=VerticalDatum==urn:ogc:def:datum:epsg::5103'\n",
    "    '&dataType=PreliminarySixMinute'\n",
    ")\n",
    "\n",
    "print(url)"
   ]
  },
  {
   "cell_type": "code",
   "execution_count": 2,
   "metadata": {
    "slideshow": {
     "slide_type": "slide"
    }
   },
   "outputs": [
    {
     "data": {
      "text/html": [
       "<div>\n",
       "<style scoped>\n",
       "    .dataframe tbody tr th:only-of-type {\n",
       "        vertical-align: middle;\n",
       "    }\n",
       "\n",
       "    .dataframe tbody tr th {\n",
       "        vertical-align: top;\n",
       "    }\n",
       "\n",
       "    .dataframe thead th {\n",
       "        text-align: right;\n",
       "    }\n",
       "</style>\n",
       "<table border=\"1\" class=\"dataframe\">\n",
       "  <thead>\n",
       "    <tr style=\"text-align: right;\">\n",
       "      <th></th>\n",
       "      <th>station_id</th>\n",
       "      <th>sensor_id</th>\n",
       "      <th>latitude (degree)</th>\n",
       "      <th>longitude (degree)</th>\n",
       "      <th>water_surface_height_above_reference_datum (m)</th>\n",
       "      <th>datum_id</th>\n",
       "      <th>vertical_position (m)</th>\n",
       "      <th>sigma</th>\n",
       "      <th>quality_flags</th>\n",
       "    </tr>\n",
       "    <tr>\n",
       "      <th>date_time</th>\n",
       "      <th></th>\n",
       "      <th></th>\n",
       "      <th></th>\n",
       "      <th></th>\n",
       "      <th></th>\n",
       "      <th></th>\n",
       "      <th></th>\n",
       "      <th></th>\n",
       "      <th></th>\n",
       "    </tr>\n",
       "  </thead>\n",
       "  <tbody>\n",
       "    <tr>\n",
       "      <th>2018-07-09T00:00:00Z</th>\n",
       "      <td>urn:ioos:station:NOAA.NOS.CO-OPS:8454000</td>\n",
       "      <td>urn:ioos:sensor:NOAA.NOS.CO-OPS:8454000:A1</td>\n",
       "      <td>41.8067</td>\n",
       "      <td>-71.4006</td>\n",
       "      <td>-0.177</td>\n",
       "      <td>urn:ogc:def:datum:epsg::5103</td>\n",
       "      <td>1.818</td>\n",
       "      <td>0.010</td>\n",
       "      <td>1;0;0;0</td>\n",
       "    </tr>\n",
       "    <tr>\n",
       "      <th>2018-07-09T00:06:00Z</th>\n",
       "      <td>urn:ioos:station:NOAA.NOS.CO-OPS:8454000</td>\n",
       "      <td>urn:ioos:sensor:NOAA.NOS.CO-OPS:8454000:A1</td>\n",
       "      <td>41.8067</td>\n",
       "      <td>-71.4006</td>\n",
       "      <td>-0.208</td>\n",
       "      <td>urn:ogc:def:datum:epsg::5103</td>\n",
       "      <td>1.818</td>\n",
       "      <td>0.006</td>\n",
       "      <td>0;0;0;0</td>\n",
       "    </tr>\n",
       "    <tr>\n",
       "      <th>2018-07-09T00:12:00Z</th>\n",
       "      <td>urn:ioos:station:NOAA.NOS.CO-OPS:8454000</td>\n",
       "      <td>urn:ioos:sensor:NOAA.NOS.CO-OPS:8454000:A1</td>\n",
       "      <td>41.8067</td>\n",
       "      <td>-71.4006</td>\n",
       "      <td>-0.237</td>\n",
       "      <td>urn:ogc:def:datum:epsg::5103</td>\n",
       "      <td>1.818</td>\n",
       "      <td>0.005</td>\n",
       "      <td>0;0;0;0</td>\n",
       "    </tr>\n",
       "    <tr>\n",
       "      <th>2018-07-09T00:18:00Z</th>\n",
       "      <td>urn:ioos:station:NOAA.NOS.CO-OPS:8454000</td>\n",
       "      <td>urn:ioos:sensor:NOAA.NOS.CO-OPS:8454000:A1</td>\n",
       "      <td>41.8067</td>\n",
       "      <td>-71.4006</td>\n",
       "      <td>-0.267</td>\n",
       "      <td>urn:ogc:def:datum:epsg::5103</td>\n",
       "      <td>1.818</td>\n",
       "      <td>0.005</td>\n",
       "      <td>0;0;0;0</td>\n",
       "    </tr>\n",
       "    <tr>\n",
       "      <th>2018-07-09T00:24:00Z</th>\n",
       "      <td>urn:ioos:station:NOAA.NOS.CO-OPS:8454000</td>\n",
       "      <td>urn:ioos:sensor:NOAA.NOS.CO-OPS:8454000:A1</td>\n",
       "      <td>41.8067</td>\n",
       "      <td>-71.4006</td>\n",
       "      <td>-0.296</td>\n",
       "      <td>urn:ogc:def:datum:epsg::5103</td>\n",
       "      <td>1.818</td>\n",
       "      <td>0.004</td>\n",
       "      <td>0;0;0;0</td>\n",
       "    </tr>\n",
       "  </tbody>\n",
       "</table>\n",
       "</div>"
      ],
      "text/plain": [
       "                                                    station_id  \\\n",
       "date_time                                                        \n",
       "2018-07-09T00:00:00Z  urn:ioos:station:NOAA.NOS.CO-OPS:8454000   \n",
       "2018-07-09T00:06:00Z  urn:ioos:station:NOAA.NOS.CO-OPS:8454000   \n",
       "2018-07-09T00:12:00Z  urn:ioos:station:NOAA.NOS.CO-OPS:8454000   \n",
       "2018-07-09T00:18:00Z  urn:ioos:station:NOAA.NOS.CO-OPS:8454000   \n",
       "2018-07-09T00:24:00Z  urn:ioos:station:NOAA.NOS.CO-OPS:8454000   \n",
       "\n",
       "                                                       sensor_id  \\\n",
       "date_time                                                          \n",
       "2018-07-09T00:00:00Z  urn:ioos:sensor:NOAA.NOS.CO-OPS:8454000:A1   \n",
       "2018-07-09T00:06:00Z  urn:ioos:sensor:NOAA.NOS.CO-OPS:8454000:A1   \n",
       "2018-07-09T00:12:00Z  urn:ioos:sensor:NOAA.NOS.CO-OPS:8454000:A1   \n",
       "2018-07-09T00:18:00Z  urn:ioos:sensor:NOAA.NOS.CO-OPS:8454000:A1   \n",
       "2018-07-09T00:24:00Z  urn:ioos:sensor:NOAA.NOS.CO-OPS:8454000:A1   \n",
       "\n",
       "                      latitude (degree)  longitude (degree)  \\\n",
       "date_time                                                     \n",
       "2018-07-09T00:00:00Z            41.8067            -71.4006   \n",
       "2018-07-09T00:06:00Z            41.8067            -71.4006   \n",
       "2018-07-09T00:12:00Z            41.8067            -71.4006   \n",
       "2018-07-09T00:18:00Z            41.8067            -71.4006   \n",
       "2018-07-09T00:24:00Z            41.8067            -71.4006   \n",
       "\n",
       "                      water_surface_height_above_reference_datum (m)  \\\n",
       "date_time                                                              \n",
       "2018-07-09T00:00:00Z                                          -0.177   \n",
       "2018-07-09T00:06:00Z                                          -0.208   \n",
       "2018-07-09T00:12:00Z                                          -0.237   \n",
       "2018-07-09T00:18:00Z                                          -0.267   \n",
       "2018-07-09T00:24:00Z                                          -0.296   \n",
       "\n",
       "                                          datum_id  vertical_position (m)  \\\n",
       "date_time                                                                   \n",
       "2018-07-09T00:00:00Z  urn:ogc:def:datum:epsg::5103                  1.818   \n",
       "2018-07-09T00:06:00Z  urn:ogc:def:datum:epsg::5103                  1.818   \n",
       "2018-07-09T00:12:00Z  urn:ogc:def:datum:epsg::5103                  1.818   \n",
       "2018-07-09T00:18:00Z  urn:ogc:def:datum:epsg::5103                  1.818   \n",
       "2018-07-09T00:24:00Z  urn:ogc:def:datum:epsg::5103                  1.818   \n",
       "\n",
       "                      sigma quality_flags  \n",
       "date_time                                  \n",
       "2018-07-09T00:00:00Z  0.010       1;0;0;0  \n",
       "2018-07-09T00:06:00Z  0.006       0;0;0;0  \n",
       "2018-07-09T00:12:00Z  0.005       0;0;0;0  \n",
       "2018-07-09T00:18:00Z  0.005       0;0;0;0  \n",
       "2018-07-09T00:24:00Z  0.004       0;0;0;0  "
      ]
     },
     "execution_count": 2,
     "metadata": {},
     "output_type": "execute_result"
    }
   ],
   "source": [
    "import pandas as pd\n",
    "\n",
    "\n",
    "df = pd.read_csv(url, index_col='date_time')\n",
    "\n",
    "df.head()"
   ]
  },
  {
   "cell_type": "code",
   "execution_count": 3,
   "metadata": {
    "slideshow": {
     "slide_type": "slide"
    }
   },
   "outputs": [
    {
     "data": {
      "image/png": "[encoded data removed]",
      "text/plain": [
       "<Figure size 432x288 with 1 Axes>"
      ]
     },
     "metadata": {},
     "output_type": "display_data"
    }
   ],
   "source": [
    "%matplotlib inline\n",
    "\n",
    "col = df.columns[df.columns.str.startswith(variable)]\n",
    "ax = df[col].plot.line(legend=False)\n",
    "ax.set_title(col.values[0]);"
   ]
  }
 ],
 "metadata": {
  "celltoolbar": "Slideshow",
  "kernelspec": {
   "display_name": "Python [conda env:IOOS]",
   "language": "python",
   "name": "conda-env-IOOS-py"
  },
  "language_info": {
   "codemirror_mode": {
    "name": "ipython",
    "version": 3
   },
   "file_extension": ".py",
   "mimetype": "text/x-python",
   "name": "python",
   "nbconvert_exporter": "python",
   "pygments_lexer": "ipython3",
   "version": "3.6.5"
  }
 },
 "nbformat": 4,
 "nbformat_minor": 2
}
