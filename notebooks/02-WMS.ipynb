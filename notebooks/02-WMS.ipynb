{
 "cells": [
  {
   "cell_type": "code",
   "execution_count": 1,
   "metadata": {
    "slideshow": {
     "slide_type": "slide"
    }
   },
   "outputs": [],
   "source": [
    "import folium\n",
    "\n",
    "lon, lat = -50, -40\n",
    "\n",
    "m = folium.Map(\n",
    "    location=[lat, lon],\n",
    "    zoom_start=5,\n",
    "    control_scale=True\n",
    ")"
   ]
  },
  {
   "cell_type": "code",
   "execution_count": 2,
   "metadata": {
    "slideshow": {
     "slide_type": "slide"
    }
   },
   "outputs": [],
   "source": [
    "from folium import plugins\n",
    "\n",
    "\n",
    "url = ('http://oos.soest.hawaii.edu/thredds/'\n",
    "       'wms/hioos/satellite/dhw_5km')\n",
    "time_interval = '2013-06-03T12:00:00.000Z/2018-07-08T12:00:00.000Z'\n",
    "\n",
    "w = folium.raster_layers.WmsTileLayer(\n",
    "    url=url,\n",
    "    name='sea_surface_temperature',\n",
    "    styles='boxfill/sst_36',\n",
    "    fmt='image/png',\n",
    "    transparent=True,\n",
    "    layers='CRW_SST',\n",
    "    overlay=True,\n",
    "    COLORSCALERANGE='1.2,28',\n",
    ")\n",
    "\n",
    "w.add_to(m)\n",
    "\n",
    "time = plugins.TimestampedWmsTileLayers(\n",
    "    w,\n",
    "    period='PT1H',\n",
    "    time_interval=time_interval\n",
    ")\n",
    "\n",
    "time.add_to(m)\n",
    "\n",
    "folium.LayerControl().add_to(m);"
   ]
  },
  {
   "cell_type": "code",
   "execution_count": 3,
   "metadata": {
    "slideshow": {
     "slide_type": "slide"
    }
   },
   "outputs": [
    {
     "data": {
      "text/html": [
       "<div style=\"width:100%;\"><div style=\"position:relative;width:100%;height:0;padding-bottom:60%;\"><iframe src=\"data:text/html;charset=utf-8;base64,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\" style=\"position:absolute;width:100%;height:100%;left:0;top:0;border:none !important;\" allowfullscreen webkitallowfullscreen mozallowfullscreen></iframe></div></div>"
      ],
      "text/plain": [
       "<folium.folium.Map at 0x7f9b08e49f60>"
      ]
     },
     "execution_count": 3,
     "metadata": {},
     "output_type": "execute_result"
    }
   ],
   "source": [
    "m"
   ]
  }
 ],
 "metadata": {
  "celltoolbar": "Slideshow",
  "gist": {
   "data": {
    "description": "Untitled.ipynb",
    "public": true
   },
   "id": ""
  },
  "kernelspec": {
   "display_name": "Python [default]",
   "language": "python",
   "name": "python3"
  },
  "language_info": {
   "codemirror_mode": {
    "name": "ipython",
    "version": 3
   },
   "file_extension": ".py",
   "mimetype": "text/x-python",
   "name": "python",
   "nbconvert_exporter": "python",
   "pygments_lexer": "ipython3",
   "version": "3.6.5"
  }
 },
 "nbformat": 4,
 "nbformat_minor": 2
}
