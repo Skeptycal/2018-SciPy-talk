{
 "cells": [
  {
   "cell_type": "code",
   "execution_count": 1,
   "metadata": {
    "slideshow": {
     "slide_type": "slide"
    }
   },
   "outputs": [],
   "source": [
    "from datetime import datetime\n",
    "\n",
    "# Region: Northwest coast.\n",
    "min_lon, max_lon = -127, -123.75\n",
    "min_lat, max_lat = 43, 48\n",
    "bbox = [min_lon, min_lat, max_lon, max_lat]\n",
    "crs = 'urn:ogc:def:crs:OGC:1.3:CRS84'\n",
    "\n",
    "# Temporal range of 1 week.\n",
    "start = datetime(2017, 4, 14, 0, 0, 0)\n",
    "stop = datetime(2017, 4, 21, 0, 0, 0)\n",
    "\n",
    "# Sea surface temperature CF names.\n",
    "cf_names = ['sea_water_temperature',\n",
    "            'sea_surface_temperature',\n",
    "            'sea_water_potential_temperature',\n",
    "            'equivalent_potential_temperature',\n",
    "            'sea_water_conservative_temperature',\n",
    "            'pseudo_equivalent_potential_temperature']"
   ]
  },
  {
   "cell_type": "code",
   "execution_count": 2,
   "metadata": {
    "slideshow": {
     "slide_type": "skip"
    }
   },
   "outputs": [],
   "source": [
    "def fes_date_filter(start, stop, constraint='overlaps'):\n",
    "    from owslib import fes\n",
    "    start = start.strftime('%Y-%m-%d %H:00')\n",
    "    stop = stop.strftime('%Y-%m-%d %H:00')\n",
    "    if constraint == 'overlaps':\n",
    "        propertyname = 'apiso:TempExtent_begin'\n",
    "        begin = fes.PropertyIsLessThanOrEqualTo(propertyname=propertyname,\n",
    "                                                literal=stop)\n",
    "        propertyname = 'apiso:TempExtent_end'\n",
    "        end = fes.PropertyIsGreaterThanOrEqualTo(propertyname=propertyname,\n",
    "                                                 literal=start)\n",
    "    elif constraint == 'within':\n",
    "        propertyname = 'apiso:TempExtent_begin'\n",
    "        begin = fes.PropertyIsGreaterThanOrEqualTo(propertyname=propertyname,\n",
    "                                                   literal=start)\n",
    "        propertyname = 'apiso:TempExtent_end'\n",
    "        end = fes.PropertyIsLessThanOrEqualTo(propertyname=propertyname,\n",
    "                                              literal=stop)\n",
    "    else:\n",
    "        raise NameError('Unrecognized constraint {}'.format(constraint))\n",
    "    return begin, end"
   ]
  },
  {
   "cell_type": "code",
   "execution_count": 3,
   "metadata": {
    "slideshow": {
     "slide_type": "slide"
    }
   },
   "outputs": [],
   "source": [
    "from owslib import fes\n",
    "\n",
    "\n",
    "kw = dict(wildCard='*', escapeChar='\\\\',\n",
    "          singleChar='?', propertyname='apiso:AnyText')\n",
    "\n",
    "or_filt = fes.Or([fes.PropertyIsLike(literal=('*%s*' % val), **kw)\n",
    "                  for val in cf_names])\n",
    "\n",
    "begin, end = fes_date_filter(start, stop)\n",
    "bbox_crs = fes.BBox(bbox, crs=crs)\n",
    "\n",
    "filter_list = [\n",
    "    fes.And(\n",
    "        [\n",
    "            bbox_crs,\n",
    "            begin, end,\n",
    "            or_filt,\n",
    "            fes.PropertyIsLike(literal='*CO-OPS*', **kw),\n",
    "        ]\n",
    "    )\n",
    "]"
   ]
  },
  {
   "cell_type": "code",
   "execution_count": 4,
   "metadata": {
    "slideshow": {
     "slide_type": "skip"
    }
   },
   "outputs": [],
   "source": [
    "def get_csw_records(csw, filter_list, pagesize=10, maxrecords=1000):\n",
    "    \"\"\"Iterate `maxrecords`/`pagesize` times until the requested value in\n",
    "    `maxrecords` is reached.\n",
    "    \"\"\"\n",
    "    from owslib.fes import SortBy, SortProperty\n",
    "    # Iterate over sorted results.\n",
    "    sortby = SortBy([SortProperty('dc:title', 'ASC')])\n",
    "    csw_records = {}\n",
    "    startposition = 0\n",
    "    nextrecord = getattr(csw, 'results', 1)\n",
    "    while nextrecord != 0:\n",
    "        csw.getrecords2(constraints=filter_list, startposition=startposition,\n",
    "                        maxrecords=pagesize, sortby=sortby)\n",
    "        csw_records.update(csw.records)\n",
    "        if csw.results['nextrecord'] == 0:\n",
    "            break\n",
    "        startposition += pagesize + 1  # Last one is included.\n",
    "        if startposition >= maxrecords:\n",
    "            break\n",
    "    csw.records.update(csw_records)"
   ]
  },
  {
   "cell_type": "code",
   "execution_count": 5,
   "metadata": {
    "slideshow": {
     "slide_type": "slide"
    }
   },
   "outputs": [
    {
     "name": "stdout",
     "output_type": "stream",
     "text": [
      "Found 4 records.\n",
      "\n"
     ]
    }
   ],
   "source": [
    "from owslib.csw import CatalogueServiceWeb\n",
    "\n",
    "\n",
    "endpoint = 'https://data.ioos.us/csw'\n",
    "\n",
    "csw = CatalogueServiceWeb(endpoint, timeout=60)\n",
    "get_csw_records(csw, filter_list, pagesize=10, maxrecords=1000)\n",
    "\n",
    "records = '\\n'.join(csw.records.keys())\n",
    "print('Found {} records.\\n'.format(len(csw.records.keys())))"
   ]
  },
  {
   "cell_type": "code",
   "execution_count": 6,
   "metadata": {
    "slideshow": {
     "slide_type": "slide"
    }
   },
   "outputs": [
    {
     "name": "stdout",
     "output_type": "stream",
     "text": [
      "[urn:ioos:station:NOAA.NOS.CO-OPS:9435380 station, South Beach, OR]\n",
      "opendap.co-ops.nos.noaa.gov-urn_ioos_station_NOAA.NOS.CO-OPS_9435380\n",
      "\n",
      "[urn:ioos:station:NOAA.NOS.CO-OPS:9437540 station, Garibaldi, OR]\n",
      "opendap.co-ops.nos.noaa.gov-urn_ioos_station_NOAA.NOS.CO-OPS_9437540\n",
      "\n",
      "[urn:ioos:station:NOAA.NOS.CO-OPS:9439040 station, Astoria, OR]\n",
      "opendap.co-ops.nos.noaa.gov-urn_ioos_station_NOAA.NOS.CO-OPS_9439040\n",
      "\n",
      "[urn:ioos:station:NOAA.NOS.CO-OPS:9440581 station, Cape Disappointment]\n",
      "opendap.co-ops.nos.noaa.gov-urn_ioos_station_NOAA.NOS.CO-OPS_9440581\n",
      "\n"
     ]
    }
   ],
   "source": [
    "for key, value in list(csw.records.items()):\n",
    "    print(u'[{}]\\n{}\\n'.format(value.title, key))"
   ]
  },
  {
   "cell_type": "code",
   "execution_count": 7,
   "metadata": {
    "slideshow": {
     "slide_type": "slide"
    }
   },
   "outputs": [
    {
     "name": "stdout",
     "output_type": "stream",
     "text": [
      "NOAA.NOS.CO-OPS Sensor Observation Service (SOS) Server  This station\n",
      "provides the following variables: Air pressure, Air temperature, Sea\n",
      "surface height amplitude due to equilibrium ocean tide, Sea water\n",
      "temperature, Water surface height above reference datum, Wind from\n",
      "direction, Wind speed, Wind speed of gust\n"
     ]
    }
   ],
   "source": [
    "import textwrap\n",
    "\n",
    "\n",
    "value = csw.records[\n",
    "    'opendap.co-ops.nos.noaa.gov-'\n",
    "    'urn_ioos_station_NOAA.NOS.CO-OPS_9439040'\n",
    "]\n",
    "\n",
    "print('\\n'.join(textwrap.wrap(value.abstract)))"
   ]
  },
  {
   "cell_type": "code",
   "execution_count": 8,
   "metadata": {
    "slideshow": {
     "slide_type": "slide"
    }
   },
   "outputs": [
    {
     "name": "stdout",
     "output_type": "stream",
     "text": [
      "Air Temperature\n",
      "Barometric Pressure\n",
      "Conductivity\n",
      "Currents\n",
      "Datum\n",
      "Harmonic Constituents\n",
      "Rain Fall\n",
      "Relative Humidity\n",
      "Salinity\n",
      "Visibility\n",
      "Water Level\n",
      "Water Level Predictions\n",
      "Water Temperature\n",
      "Winds\n",
      "air_pressure\n",
      "air_temperature\n",
      "sea_surface_height_amplitude_due_to_equilibrium_ocean_tide\n",
      "sea_water_temperature\n",
      "water_surface_height_above_reference_datum\n",
      "wind_from_direction\n",
      "wind_speed\n",
      "wind_speed_of_gust\n",
      "climatologyMeteorologyAtmosphere\n"
     ]
    }
   ],
   "source": [
    "print('\\n'.join(value.subjects))"
   ]
  },
  {
   "cell_type": "code",
   "execution_count": 9,
   "metadata": {
    "scrolled": true,
    "slideshow": {
     "slide_type": "slide"
    }
   },
   "outputs": [
    {
     "name": "stdout",
     "output_type": "stream",
     "text": [
      "geolink: OGC:SOS\n",
      "scheme: Astoria\n",
      "URL: https://opendap.co-ops.nos.noaa.gov/ioos-dif-sos/SOS?version=1.0.0&service=SOS&outputFormat=text/xml; subtype=\"sensorML/1.0.1/profiles/ioos_sos/1.0\"&procedure=urn:ioos:station:NOAA.NOS.CO-OPS:9439040&request=DescribeSensor\n",
      "\n",
      "geolink: OGC:SOS\n",
      "scheme: WWW:LINK - text/csv\n",
      "URL: http://opendap.co-ops.nos.noaa.gov/ioos-dif-sos/SOS?service=SOS&observedProperty=http://mmisw.org/ont/cf/parameter/air_pressure&version=1.0.0&offering=urn:ioos:station:NOAA.NOS.CO-OPS:9439040&responseFormat=text/csv&eventTime=2018-07-09T16:16:54/2018-07-09T18:16:54&request=GetObservation\n",
      "\n",
      "geolink: OGC:SOS\n",
      "scheme: WWW:LINK - text/csv\n",
      "URL: http://opendap.co-ops.nos.noaa.gov/ioos-dif-sos/SOS?service=SOS&observedProperty=http://mmisw.org/ont/cf/parameter/air_temperature&version=1.0.0&offering=urn:ioos:station:NOAA.NOS.CO-OPS:9439040&responseFormat=text/csv&eventTime=2018-07-09T16:16:54/2018-07-09T18:16:54&request=GetObservation\n",
      "\n",
      "geolink: OGC:SOS\n",
      "scheme: WWW:LINK - text/csv\n",
      "URL: http://opendap.co-ops.nos.noaa.gov/ioos-dif-sos/SOS?service=SOS&observedProperty=http://mmisw.org/ont/cf/parameter/sea_surface_height_amplitude_due_to_equilibrium_ocean_tide&version=1.0.0&offering=urn:ioos:station:NOAA.NOS.CO-OPS:9439040&responseFormat=text/csv&eventTime=2018-07-09T16:16:54/2018-07-09T18:16:54&request=GetObservation\n",
      "\n",
      "geolink: OGC:SOS\n",
      "scheme: WWW:LINK - text/csv\n",
      "URL: http://opendap.co-ops.nos.noaa.gov/ioos-dif-sos/SOS?service=SOS&observedProperty=http://mmisw.org/ont/cf/parameter/sea_water_temperature&version=1.0.0&offering=urn:ioos:station:NOAA.NOS.CO-OPS:9439040&responseFormat=text/csv&eventTime=2018-07-09T16:16:54/2018-07-09T18:16:54&request=GetObservation\n",
      "\n",
      "geolink: OGC:SOS\n",
      "scheme: WWW:LINK - text/csv\n",
      "URL: http://opendap.co-ops.nos.noaa.gov/ioos-dif-sos/SOS?service=SOS&observedProperty=http://mmisw.org/ont/cf/parameter/water_surface_height_above_reference_datum&version=1.0.0&offering=urn:ioos:station:NOAA.NOS.CO-OPS:9439040&responseFormat=text/csv&eventTime=2018-07-09T16:16:54/2018-07-09T18:16:54&request=GetObservation\n",
      "\n",
      "geolink: OGC:SOS\n",
      "scheme: WWW:LINK - text/csv\n",
      "URL: http://opendap.co-ops.nos.noaa.gov/ioos-dif-sos/SOS?service=SOS&observedProperty=http://mmisw.org/ont/cf/parameter/wind_from_direction&version=1.0.0&offering=urn:ioos:station:NOAA.NOS.CO-OPS:9439040&responseFormat=text/csv&eventTime=2018-07-09T16:16:54/2018-07-09T18:16:54&request=GetObservation\n",
      "\n",
      "geolink: OGC:SOS\n",
      "scheme: WWW:LINK - text/csv\n",
      "URL: http://opendap.co-ops.nos.noaa.gov/ioos-dif-sos/SOS?service=SOS&observedProperty=http://mmisw.org/ont/cf/parameter/wind_speed&version=1.0.0&offering=urn:ioos:station:NOAA.NOS.CO-OPS:9439040&responseFormat=text/csv&eventTime=2018-07-09T16:16:54/2018-07-09T18:16:54&request=GetObservation\n",
      "\n",
      "geolink: OGC:SOS\n",
      "scheme: WWW:LINK - text/csv\n",
      "URL: http://opendap.co-ops.nos.noaa.gov/ioos-dif-sos/SOS?service=SOS&observedProperty=http://mmisw.org/ont/cf/parameter/wind_speed_of_gust&version=1.0.0&offering=urn:ioos:station:NOAA.NOS.CO-OPS:9439040&responseFormat=text/csv&eventTime=2018-07-09T16:16:54/2018-07-09T18:16:54&request=GetObservation\n",
      "\n",
      "geolink: OPeNDAP:OPeNDAP\n",
      "scheme: WWW:LINK\n",
      "URL: https://opendap.co-ops.nos.noaa.gov/ioos-dif-sos/images/tide_gauge.jpg\n",
      "\n",
      "geolink: None\n",
      "scheme: WWW:LINK\n",
      "URL: https://tidesandcurrents.noaa.gov/publications/NOAA_Technical_Report_NOS_CO-OPS_030_QC_requirements_doc(revised)-11102004.pdf\n",
      "\n",
      "geolink: None\n",
      "scheme: WWW:LINK\n",
      "URL: https://tidesandcurrents.noaa.gov/stationhome.html?id=9439040\n",
      "\n",
      "geolink: OGC:SOS\n",
      "scheme: OGC:SOS\n",
      "URL: http://opendap.co-ops.nos.noaa.gov/ioos-dif-sos/SOS?service=SOS&acceptVersions=1.0.0&request=GetCapabilities\n",
      "\n"
     ]
    }
   ],
   "source": [
    "from geolinks import sniff_link\n",
    "\n",
    "msg = 'geolink: {geolink}\\nscheme: {scheme}\\nURL: {url}\\n'.format\n",
    "for ref in value.references:\n",
    "    print(msg(geolink=sniff_link(ref['url']), **ref))"
   ]
  },
  {
   "cell_type": "code",
   "execution_count": 10,
   "metadata": {
    "slideshow": {
     "slide_type": "skip"
    }
   },
   "outputs": [],
   "source": [
    "fmt = ('http://opendap.co-ops.nos.noaa.gov/ioos-dif-sos/SOS?'\n",
    "       'service=SOS&'\n",
    "       'eventTime={0:%Y-%m-%dT00:00:00}/{1:%Y-%m-%dT00:00:00}&'\n",
    "       'observedProperty=http://mmisw.org/ont/cf/parameter/sea_water_temperature&'\n",
    "       'version=1.0.0&'\n",
    "       'request=GetObservation&offering=urn:ioos:station:NOAA.NOS.CO-OPS:9439040&'\n",
    "       'responseFormat=text/csv')\n",
    "\n",
    "url = fmt.format(start, stop)"
   ]
  },
  {
   "cell_type": "code",
   "execution_count": 11,
   "metadata": {
    "slideshow": {
     "slide_type": "slide"
    }
   },
   "outputs": [],
   "source": [
    "import pandas as pd\n",
    "\n",
    "df = pd.read_csv(\n",
    "    url,\n",
    "    index_col='date_time', parse_dates=True\n",
    ")"
   ]
  },
  {
   "cell_type": "code",
   "execution_count": 12,
   "metadata": {
    "slideshow": {
     "slide_type": "slide"
    }
   },
   "outputs": [
    {
     "data": {
      "image/png": "[encoded data removed]",
      "text/plain": [
       "<Figure size 792x198 with 1 Axes>"
      ]
     },
     "metadata": {},
     "output_type": "display_data"
    }
   ],
   "source": [
    "%matplotlib inline\n",
    "import matplotlib.pyplot as plt\n",
    "\n",
    "\n",
    "fig, ax = plt.subplots(figsize=(11, 2.75))\n",
    "ax = df['sea_water_temperature (C)'].plot(ax=ax)\n",
    "ax.set_xlabel('')\n",
    "ax.set_ylabel(r'Sea water temperature ($^\\circ$C)')\n",
    "ax.set_title(value.title);"
   ]
  }
 ],
 "metadata": {
  "celltoolbar": "Slideshow",
  "kernelspec": {
   "display_name": "Python [default]",
   "language": "python",
   "name": "python3"
  },
  "language_info": {
   "codemirror_mode": {
    "name": "ipython",
    "version": 3
   },
   "file_extension": ".py",
   "mimetype": "text/x-python",
   "name": "python",
   "nbconvert_exporter": "python",
   "pygments_lexer": "ipython3",
   "version": "3.6.5"
  }
 },
 "nbformat": 4,
 "nbformat_minor": 2
}
