{
 "cells": [
  {
   "cell_type": "code",
   "execution_count": 1,
   "metadata": {
    "slideshow": {
     "slide_type": "slide"
    }
   },
   "outputs": [],
   "source": [
    "from datetime import datetime\n",
    "\n",
    "min_lat, max_lat = 20, 30\n",
    "min_lon, max_lon = -82, -97\n",
    "bbox = [min_lon, min_lat, max_lon, max_lat]\n",
    "crs = 'urn:ogc:def:crs:OGC:1.3:CRS84'\n",
    "\n",
    "# Temporal range of 1 week.\n",
    "start = datetime(2017, 4, 14, 0, 0, 0)\n",
    "stop = datetime(2017, 4, 21, 0, 0, 0)\n",
    "\n",
    "# Sea surface temperature CF names.\n",
    "cf_names = ['sea_water_temperature',\n",
    "            'sea_surface_temperature',\n",
    "            'sea_water_potential_temperature',\n",
    "            'equivalent_potential_temperature',\n",
    "            'sea_water_conservative_temperature',\n",
    "            'pseudo_equivalent_potential_temperature']"
   ]
  },
  {
   "cell_type": "code",
   "execution_count": 2,
   "metadata": {
    "slideshow": {
     "slide_type": "skip"
    }
   },
   "outputs": [],
   "source": [
    "def fes_date_filter(start, stop, constraint='overlaps'):\n",
    "    from owslib import fes\n",
    "    start = start.strftime('%Y-%m-%d %H:00')\n",
    "    stop = stop.strftime('%Y-%m-%d %H:00')\n",
    "    if constraint == 'overlaps':\n",
    "        propertyname = 'apiso:TempExtent_begin'\n",
    "        begin = fes.PropertyIsLessThanOrEqualTo(propertyname=propertyname,\n",
    "                                                literal=stop)\n",
    "        propertyname = 'apiso:TempExtent_end'\n",
    "        end = fes.PropertyIsGreaterThanOrEqualTo(propertyname=propertyname,\n",
    "                                                 literal=start)\n",
    "    elif constraint == 'within':\n",
    "        propertyname = 'apiso:TempExtent_begin'\n",
    "        begin = fes.PropertyIsGreaterThanOrEqualTo(propertyname=propertyname,\n",
    "                                                   literal=start)\n",
    "        propertyname = 'apiso:TempExtent_end'\n",
    "        end = fes.PropertyIsLessThanOrEqualTo(propertyname=propertyname,\n",
    "                                              literal=stop)\n",
    "    else:\n",
    "        raise NameError('Unrecognized constraint {}'.format(constraint))\n",
    "    return begin, end"
   ]
  },
  {
   "cell_type": "code",
   "execution_count": 3,
   "metadata": {
    "slideshow": {
     "slide_type": "slide"
    }
   },
   "outputs": [],
   "source": [
    "from owslib import fes\n",
    "\n",
    "kw = dict(\n",
    "    wildCard='*',\n",
    "    escapeChar='\\\\',\n",
    "    singleChar='?',\n",
    "    propertyname='apiso:AnyText'\n",
    ")\n",
    "\n",
    "or_filt = fes.Or(\n",
    "    [fes.PropertyIsLike(literal=('*%s*' % val), **kw)\n",
    "        for val in cf_names])\n",
    "\n",
    "begin, end = fes_date_filter(start, stop)\n",
    "bbox_crs = fes.BBox(bbox, crs=crs)\n",
    "\n",
    "filter_list = [\n",
    "    fes.And(\n",
    "        [\n",
    "            bbox_crs,\n",
    "            begin, end,\n",
    "            or_filt,\n",
    "            fes.PropertyIsLike(literal='*CO-OPS*', **kw),\n",
    "        ]\n",
    "    )\n",
    "]"
   ]
  },
  {
   "cell_type": "code",
   "execution_count": 4,
   "metadata": {
    "slideshow": {
     "slide_type": "skip"
    }
   },
   "outputs": [],
   "source": [
    "def get_csw_records(csw, filter_list, pagesize=10, maxrecords=1000):\n",
    "    \"\"\"Iterate `maxrecords`/`pagesize` times until the requested value in\n",
    "    `maxrecords` is reached.\n",
    "    \"\"\"\n",
    "    from owslib.fes import SortBy, SortProperty\n",
    "    # Iterate over sorted results.\n",
    "    sortby = SortBy([SortProperty('dc:title', 'ASC')])\n",
    "    csw_records = {}\n",
    "    startposition = 0\n",
    "    nextrecord = getattr(csw, 'results', 1)\n",
    "    while nextrecord != 0:\n",
    "        csw.getrecords2(constraints=filter_list, startposition=startposition,\n",
    "                        maxrecords=pagesize, sortby=sortby)\n",
    "        csw_records.update(csw.records)\n",
    "        if csw.results['nextrecord'] == 0:\n",
    "            break\n",
    "        startposition += pagesize + 1  # Last one is included.\n",
    "        if startposition >= maxrecords:\n",
    "            break\n",
    "    csw.records.update(csw_records)"
   ]
  },
  {
   "cell_type": "code",
   "execution_count": 5,
   "metadata": {
    "slideshow": {
     "slide_type": "slide"
    }
   },
   "outputs": [
    {
     "name": "stdout",
     "output_type": "stream",
     "text": [
      "Found 51 records.\n",
      "\n"
     ]
    }
   ],
   "source": [
    "from owslib.csw import CatalogueServiceWeb\n",
    "\n",
    "\n",
    "endpoint = 'https://data.ioos.us/csw'\n",
    "\n",
    "csw = CatalogueServiceWeb(endpoint, timeout=60)\n",
    "\n",
    "get_csw_records(csw, filter_list, pagesize=10, maxrecords=1000)\n",
    "\n",
    "records = '\\n'.join(csw.records.keys())\n",
    "print('Found {} records.\\n'.format(len(csw.records.keys())))"
   ]
  },
  {
   "cell_type": "code",
   "execution_count": 6,
   "metadata": {
    "scrolled": true,
    "slideshow": {
     "slide_type": "slide"
    }
   },
   "outputs": [
    {
     "name": "stdout",
     "output_type": "stream",
     "text": [
      "[urn:ioos:station:NOAA.NOS.CO-OPS:t03010 station, Port Manatee]\n",
      "opendap.co-ops.nos.noaa.gov-urn_ioos_station_NOAA.NOS.CO-OPS_t03010\n",
      "\n",
      "[Apalachicola, FL]\n",
      "noaa_nos_co_ops_8728690\n",
      "\n",
      "[Cedar Key, FL]\n",
      "noaa_nos_co_ops_8727520\n",
      "\n",
      "[Clearwater Beach, FL]\n",
      "noaa_nos_co_ops_8726724\n",
      "\n",
      "[Mckay Bay Entrance, FL]\n",
      "noaa_nos_co_ops_8726667\n",
      "\n",
      "[Old Port Tampa, FL]\n",
      "noaa_nos_co_ops_8726607\n",
      "\n",
      "[Port Manatee, FL]\n",
      "noaa_nos_co_ops_8726384\n",
      "\n",
      "[St Petersburg, FL]\n",
      "noaa_nos_co_ops_8726520\n",
      "\n",
      "[urn:ioos:station:NOAA.NOS.CO-OPS:8726384 station, Port Manatee, FL]\n",
      "opendap.co-ops.nos.noaa.gov-urn_ioos_station_NOAA.NOS.CO-OPS_8726384\n",
      "\n",
      "[urn:ioos:station:NOAA.NOS.CO-OPS:8726520 station, St. Petersburg, Tampa Bay, FL]\n",
      "opendap.co-ops.nos.noaa.gov-urn_ioos_station_NOAA.NOS.CO-OPS_8726520\n",
      "\n",
      "[urn:ioos:station:NOAA.NOS.CO-OPS:8726607 station, Old Port Tampa, FL]\n",
      "opendap.co-ops.nos.noaa.gov-urn_ioos_station_NOAA.NOS.CO-OPS_8726607\n",
      "\n",
      "[urn:ioos:station:NOAA.NOS.CO-OPS:8726667 station, Mckay Bay Entrance, FL]\n",
      "opendap.co-ops.nos.noaa.gov-urn_ioos_station_NOAA.NOS.CO-OPS_8726667\n",
      "\n",
      "[urn:ioos:station:NOAA.NOS.CO-OPS:8726724 station, Clearwater Beach, FL]\n",
      "opendap.co-ops.nos.noaa.gov-urn_ioos_station_NOAA.NOS.CO-OPS_8726724\n",
      "\n",
      "[urn:ioos:station:NOAA.NOS.CO-OPS:8727520 station, Cedar Key, FL]\n",
      "opendap.co-ops.nos.noaa.gov-urn_ioos_station_NOAA.NOS.CO-OPS_8727520\n",
      "\n",
      "[urn:ioos:station:NOAA.NOS.CO-OPS:8728690 station, Apalachicola, FL]\n",
      "opendap.co-ops.nos.noaa.gov-urn_ioos_station_NOAA.NOS.CO-OPS_8728690\n",
      "\n",
      "[urn:ioos:station:NOAA.NOS.CO-OPS:8760721 station, Pilottown, LA]\n",
      "opendap.co-ops.nos.noaa.gov-urn_ioos_station_NOAA.NOS.CO-OPS_8760721\n",
      "\n",
      "[urn:ioos:station:NOAA.NOS.CO-OPS:8760922 station, Pilots Station East, S.W. Pass, LA]\n",
      "opendap.co-ops.nos.noaa.gov-urn_ioos_station_NOAA.NOS.CO-OPS_8760922\n",
      "\n",
      "[urn:ioos:station:NOAA.NOS.CO-OPS:8761305 station, Shell Beach, LA]\n",
      "opendap.co-ops.nos.noaa.gov-urn_ioos_station_NOAA.NOS.CO-OPS_8761305\n",
      "\n",
      "[urn:ioos:station:NOAA.NOS.CO-OPS:8761724 station, Grand Isle, LA]\n",
      "opendap.co-ops.nos.noaa.gov-urn_ioos_station_NOAA.NOS.CO-OPS_8761724\n",
      "\n",
      "[urn:ioos:station:NOAA.NOS.CO-OPS:8761955 station, Carrollton, LA]\n",
      "opendap.co-ops.nos.noaa.gov-urn_ioos_station_NOAA.NOS.CO-OPS_8761955\n",
      "\n",
      "[urn:ioos:station:NOAA.NOS.CO-OPS:8762075 station, Port Fourchon, Belle Pass, LA]\n",
      "opendap.co-ops.nos.noaa.gov-urn_ioos_station_NOAA.NOS.CO-OPS_8762075\n",
      "\n",
      "[urn:ioos:station:NOAA.NOS.CO-OPS:8764044 station, Berwick, Atchafalaya River, LA]\n",
      "opendap.co-ops.nos.noaa.gov-urn_ioos_station_NOAA.NOS.CO-OPS_8764044\n",
      "\n",
      "[urn:ioos:station:NOAA.NOS.CO-OPS:8764227 station, LAWMA, Amerada Pass, LA]\n",
      "opendap.co-ops.nos.noaa.gov-urn_ioos_station_NOAA.NOS.CO-OPS_8764227\n",
      "\n",
      "[urn:ioos:station:NOAA.NOS.CO-OPS:8764314 station, Eugene Island, North of , Gulf of Mexico, LA]\n",
      "opendap.co-ops.nos.noaa.gov-urn_ioos_station_NOAA.NOS.CO-OPS_8764314\n",
      "\n",
      "[urn:ioos:station:NOAA.NOS.CO-OPS:8766072 station, Freshwater Canal Locks, LA]\n",
      "opendap.co-ops.nos.noaa.gov-urn_ioos_station_NOAA.NOS.CO-OPS_8766072\n",
      "\n",
      "[urn:ioos:station:NOAA.NOS.CO-OPS:8768094 station, Calcasieu Pass, LA]\n",
      "opendap.co-ops.nos.noaa.gov-urn_ioos_station_NOAA.NOS.CO-OPS_8768094\n",
      "\n",
      "[urn:ioos:station:NOAA.NOS.CO-OPS:8770475 station, Port Arthur, TX]\n",
      "opendap.co-ops.nos.noaa.gov-urn_ioos_station_NOAA.NOS.CO-OPS_8770475\n",
      "\n",
      "[urn:ioos:station:NOAA.NOS.CO-OPS:8770520 station, Rainbow Bridge (TCOON), TX]\n",
      "opendap.co-ops.nos.noaa.gov-urn_ioos_station_NOAA.NOS.CO-OPS_8770520\n",
      "\n",
      "[urn:ioos:station:NOAA.NOS.CO-OPS:8770570 station, Sabine Pass North, TX]\n",
      "opendap.co-ops.nos.noaa.gov-urn_ioos_station_NOAA.NOS.CO-OPS_8770570\n",
      "\n",
      "[urn:ioos:station:NOAA.NOS.CO-OPS:8770613 station, Morgans Point, Barbours Cut, TX]\n",
      "opendap.co-ops.nos.noaa.gov-urn_ioos_station_NOAA.NOS.CO-OPS_8770613\n",
      "\n",
      "[urn:ioos:station:NOAA.NOS.CO-OPS:8770733 station, Lynchburg Landing, TX]\n",
      "opendap.co-ops.nos.noaa.gov-urn_ioos_station_NOAA.NOS.CO-OPS_8770733\n",
      "\n",
      "[urn:ioos:station:NOAA.NOS.CO-OPS:8770808 station, High Island (TCOON), TX]\n",
      "opendap.co-ops.nos.noaa.gov-urn_ioos_station_NOAA.NOS.CO-OPS_8770808\n",
      "\n",
      "[urn:ioos:station:NOAA.NOS.CO-OPS:8770822 station, Texas Point, Sabine Pass, TX]\n",
      "opendap.co-ops.nos.noaa.gov-urn_ioos_station_NOAA.NOS.CO-OPS_8770822\n",
      "\n",
      "[urn:ioos:station:NOAA.NOS.CO-OPS:8770971 station, Rollover Pass, TX]\n",
      "opendap.co-ops.nos.noaa.gov-urn_ioos_station_NOAA.NOS.CO-OPS_8770971\n",
      "\n",
      "[urn:ioos:station:NOAA.NOS.CO-OPS:8771013 station, Eagle Point, TX]\n",
      "opendap.co-ops.nos.noaa.gov-urn_ioos_station_NOAA.NOS.CO-OPS_8771013\n",
      "\n",
      "[urn:ioos:station:NOAA.NOS.CO-OPS:8771341 station, Galveston Bay Entrance, North Jetty, TX]\n",
      "opendap.co-ops.nos.noaa.gov-urn_ioos_station_NOAA.NOS.CO-OPS_8771341\n",
      "\n",
      "[urn:ioos:station:NOAA.NOS.CO-OPS:8771450 station, Galveston Pier 21, TX]\n",
      "opendap.co-ops.nos.noaa.gov-urn_ioos_station_NOAA.NOS.CO-OPS_8771450\n",
      "\n",
      "[urn:ioos:station:NOAA.NOS.CO-OPS:8771486 station, Galveston Railroad Bridge, TX]\n",
      "opendap.co-ops.nos.noaa.gov-urn_ioos_station_NOAA.NOS.CO-OPS_8771486\n",
      "\n",
      "[urn:ioos:station:NOAA.NOS.CO-OPS:8771972 station, San Luis Pass, TX]\n",
      "opendap.co-ops.nos.noaa.gov-urn_ioos_station_NOAA.NOS.CO-OPS_8771972\n",
      "\n",
      "[urn:ioos:station:NOAA.NOS.CO-OPS:8772447 station, Freeport, TX]\n",
      "opendap.co-ops.nos.noaa.gov-urn_ioos_station_NOAA.NOS.CO-OPS_8772447\n",
      "\n",
      "[urn:ioos:station:NOAA.NOS.CO-OPS:8772985 station, Sargent, TX]\n",
      "opendap.co-ops.nos.noaa.gov-urn_ioos_station_NOAA.NOS.CO-OPS_8772985\n",
      "\n",
      "[urn:ioos:station:NOAA.NOS.CO-OPS:8773146 station, Matagorda City, TX]\n",
      "opendap.co-ops.nos.noaa.gov-urn_ioos_station_NOAA.NOS.CO-OPS_8773146\n",
      "\n",
      "[urn:ioos:station:NOAA.NOS.CO-OPS:8773259 station, Port Lavaca, TX]\n",
      "opendap.co-ops.nos.noaa.gov-urn_ioos_station_NOAA.NOS.CO-OPS_8773259\n",
      "\n",
      "[urn:ioos:station:NOAA.NOS.CO-OPS:8773701 station, Port O'Connor, TX]\n",
      "opendap.co-ops.nos.noaa.gov-urn_ioos_station_NOAA.NOS.CO-OPS_8773701\n",
      "\n",
      "[urn:ioos:station:NOAA.NOS.CO-OPS:8773767 station, Matagorda Bay Entrance Channel, TX, TX]\n",
      "opendap.co-ops.nos.noaa.gov-urn_ioos_station_NOAA.NOS.CO-OPS_8773767\n",
      "\n",
      "[urn:ioos:station:NOAA.NOS.CO-OPS:8774230 station, Aransas Wildlife Refuge (TCOON), TX]\n",
      "opendap.co-ops.nos.noaa.gov-urn_ioos_station_NOAA.NOS.CO-OPS_8774230\n",
      "\n",
      "[urn:ioos:station:NOAA.NOS.CO-OPS:g08010 station, Fred Hartman Br., Houston Ship Channel]\n",
      "opendap.co-ops.nos.noaa.gov-urn_ioos_station_NOAA.NOS.CO-OPS_g08010\n",
      "\n",
      "[urn:ioos:station:NOAA.NOS.CO-OPS:mc0101 station, Atchafalaya Bar Channel]\n",
      "opendap.co-ops.nos.noaa.gov-urn_ioos_station_NOAA.NOS.CO-OPS_mc0101\n",
      "\n",
      "[urn:ioos:station:NOAA.NOS.CO-OPS:sn0401 station, West Port Arthur Bridge]\n",
      "opendap.co-ops.nos.noaa.gov-urn_ioos_station_NOAA.NOS.CO-OPS_sn0401\n",
      "\n",
      "[urn:ioos:station:NOAA.NOS.CO-OPS:sn0501 station, Rainbow Bridge]\n",
      "opendap.co-ops.nos.noaa.gov-urn_ioos_station_NOAA.NOS.CO-OPS_sn0501\n",
      "\n",
      "[urn:ioos:station:NOAA.NOS.CO-OPS:sn0701 station, Port Arthur]\n",
      "opendap.co-ops.nos.noaa.gov-urn_ioos_station_NOAA.NOS.CO-OPS_sn0701\n",
      "\n"
     ]
    }
   ],
   "source": [
    "for key, value in list(csw.records.items()):\n",
    "    print(u'[{}]\\n{}\\n'.format(value.title, key))"
   ]
  },
  {
   "cell_type": "code",
   "execution_count": 7,
   "metadata": {
    "slideshow": {
     "slide_type": "slide"
    }
   },
   "outputs": [
    {
     "name": "stdout",
     "output_type": "stream",
     "text": [
      "NOAA.NOS.CO-OPS Sensor Observation Service (SOS) Server  This station\n",
      "provides the following variables: Direction of sea water velocity,\n",
      "Platform orientation, Platform pitch angle, Platform roll angle, Sea\n",
      "water speed, Sea water temperature\n"
     ]
    }
   ],
   "source": [
    "import textwrap\n",
    "\n",
    "\n",
    "key, value = list(csw.records.items())[-1]\n",
    "\n",
    "print('\\n'.join(textwrap.wrap(value.abstract)))"
   ]
  },
  {
   "cell_type": "code",
   "execution_count": 8,
   "metadata": {
    "slideshow": {
     "slide_type": "slide"
    }
   },
   "outputs": [
    {
     "name": "stdout",
     "output_type": "stream",
     "text": [
      "Air Temperature\n",
      "Barometric Pressure\n",
      "Conductivity\n",
      "Currents\n",
      "Datum\n",
      "Harmonic Constituents\n",
      "Rain Fall\n",
      "Relative Humidity\n",
      "Salinity\n",
      "Visibility\n",
      "Water Level\n",
      "Water Level Predictions\n",
      "Water Temperature\n",
      "Winds\n",
      "direction_of_sea_water_velocity\n",
      "platform_orientation\n",
      "platform_pitch_angle\n",
      "platform_roll_angle\n",
      "sea_water_speed\n",
      "sea_water_temperature\n",
      "climatologyMeteorologyAtmosphere\n"
     ]
    }
   ],
   "source": [
    "print('\\n'.join(value.subjects))"
   ]
  },
  {
   "cell_type": "code",
   "execution_count": 9,
   "metadata": {
    "scrolled": false,
    "slideshow": {
     "slide_type": "slide"
    }
   },
   "outputs": [
    {
     "name": "stdout",
     "output_type": "stream",
     "text": [
      "geolink: OGC:SOS\n",
      "scheme: Port Arthur\n",
      "URL: https://opendap.co-ops.nos.noaa.gov/ioos-dif-sos/SOS?service=SOS&version=1.0.0&procedure=urn:ioos:station:NOAA.NOS.CO-OPS:sn0701&request=DescribeSensor&outputFormat=text/xml; subtype=\"sensorML/1.0.1/profiles/ioos_sos/1.0\"\n",
      "\n",
      "geolink: OGC:SOS\n",
      "scheme: WWW:LINK - text/csv\n",
      "URL: http://opendap.co-ops.nos.noaa.gov/ioos-dif-sos/SOS?responseFormat=text/csv&request=GetObservation&observedProperty=http://mmisw.org/ont/cf/parameter/direction_of_sea_water_velocity&eventTime=2018-07-11T16:10:29/2018-07-11T18:10:29&offering=urn:ioos:station:NOAA.NOS.CO-OPS:sn0701&service=SOS&version=1.0.0\n",
      "\n",
      "geolink: OGC:SOS\n",
      "scheme: WWW:LINK - text/csv\n",
      "URL: http://opendap.co-ops.nos.noaa.gov/ioos-dif-sos/SOS?responseFormat=text/csv&request=GetObservation&observedProperty=http://mmisw.org/ont/cf/parameter/platform_orientation&eventTime=2018-07-11T16:10:29/2018-07-11T18:10:29&offering=urn:ioos:station:NOAA.NOS.CO-OPS:sn0701&service=SOS&version=1.0.0\n",
      "\n",
      "geolink: OGC:SOS\n",
      "scheme: WWW:LINK - text/csv\n",
      "URL: http://opendap.co-ops.nos.noaa.gov/ioos-dif-sos/SOS?responseFormat=text/csv&request=GetObservation&observedProperty=http://mmisw.org/ont/cf/parameter/platform_pitch_angle&eventTime=2018-07-11T16:10:29/2018-07-11T18:10:29&offering=urn:ioos:station:NOAA.NOS.CO-OPS:sn0701&service=SOS&version=1.0.0\n",
      "\n",
      "geolink: OGC:SOS\n",
      "scheme: WWW:LINK - text/csv\n",
      "URL: http://opendap.co-ops.nos.noaa.gov/ioos-dif-sos/SOS?responseFormat=text/csv&request=GetObservation&observedProperty=http://mmisw.org/ont/cf/parameter/platform_roll_angle&eventTime=2018-07-11T16:10:29/2018-07-11T18:10:29&offering=urn:ioos:station:NOAA.NOS.CO-OPS:sn0701&service=SOS&version=1.0.0\n",
      "\n",
      "geolink: OGC:SOS\n",
      "scheme: WWW:LINK - text/csv\n",
      "URL: http://opendap.co-ops.nos.noaa.gov/ioos-dif-sos/SOS?responseFormat=text/csv&request=GetObservation&observedProperty=http://mmisw.org/ont/cf/parameter/sea_water_speed&eventTime=2018-07-11T16:10:29/2018-07-11T18:10:29&offering=urn:ioos:station:NOAA.NOS.CO-OPS:sn0701&service=SOS&version=1.0.0\n",
      "\n",
      "geolink: OGC:SOS\n",
      "scheme: WWW:LINK - text/csv\n",
      "URL: http://opendap.co-ops.nos.noaa.gov/ioos-dif-sos/SOS?responseFormat=text/csv&request=GetObservation&observedProperty=http://mmisw.org/ont/cf/parameter/sea_water_temperature&eventTime=2018-07-11T16:10:29/2018-07-11T18:10:29&offering=urn:ioos:station:NOAA.NOS.CO-OPS:sn0701&service=SOS&version=1.0.0\n",
      "\n",
      "geolink: OPeNDAP:OPeNDAP\n",
      "scheme: WWW:LINK\n",
      "URL: https://opendap.co-ops.nos.noaa.gov/ioos-dif-sos/images/current_meter.jpg\n",
      "\n",
      "geolink: None\n",
      "scheme: WWW:LINK\n",
      "URL: https://tidesandcurrents.noaa.gov/publications/NOAA_Technical_Report_NOS_CO-OPS_030_QC_requirements_doc(revised)-11102004.pdf\n",
      "\n",
      "geolink: None\n",
      "scheme: WWW:LINK\n",
      "URL: https://tidesandcurrents.noaa.gov\n",
      "\n",
      "geolink: OGC:SOS\n",
      "scheme: OGC:SOS\n",
      "URL: http://opendap.co-ops.nos.noaa.gov/ioos-dif-sos/SOS?acceptVersions=1.0.0&service=SOS&request=GetCapabilities\n",
      "\n"
     ]
    }
   ],
   "source": [
    "from geolinks import sniff_link\n",
    "\n",
    "msg = 'geolink: {geolink}\\nscheme: {scheme}\\nURL: {url}\\n'.format\n",
    "for ref in value.references:\n",
    "    print(msg(geolink=sniff_link(ref['url']), **ref))"
   ]
  },
  {
   "cell_type": "code",
   "execution_count": 10,
   "metadata": {
    "slideshow": {
     "slide_type": "skip"
    }
   },
   "outputs": [],
   "source": [
    "fmt = ('http://opendap.co-ops.nos.noaa.gov/ioos-dif-sos/SOS?'\n",
    "       'service=SOS&'\n",
    "       'eventTime={0:%Y-%m-%dT00:00:00}/{1:%Y-%m-%dT00:00:00}&'\n",
    "       'observedProperty=http://mmisw.org/ont/cf/parameter/sea_water_temperature&'\n",
    "       'version=1.0.0&'\n",
    "       f'request=GetObservation&offering=urn:ioos:station:NOAA.NOS.CO-OPS:8771450&'\n",
    "       'responseFormat=text/csv')\n",
    "\n",
    "url = fmt.format(start, stop)"
   ]
  },
  {
   "cell_type": "code",
   "execution_count": 11,
   "metadata": {
    "slideshow": {
     "slide_type": "slide"
    }
   },
   "outputs": [],
   "source": [
    "import pandas as pd\n",
    "\n",
    "df = pd.read_csv(\n",
    "    url,\n",
    "    index_col='date_time', parse_dates=True\n",
    ")"
   ]
  },
  {
   "cell_type": "code",
   "execution_count": 12,
   "metadata": {
    "slideshow": {
     "slide_type": "slide"
    }
   },
   "outputs": [
    {
     "data": {
      "image/png": "[encoded data removed]",
      "text/plain": [
       "<Figure size 792x198 with 1 Axes>"
      ]
     },
     "metadata": {},
     "output_type": "display_data"
    }
   ],
   "source": [
    "%matplotlib inline\n",
    "import matplotlib.pyplot as plt\n",
    "\n",
    "\n",
    "fig, ax = plt.subplots(figsize=(11, 2.75))\n",
    "ax = df['sea_water_temperature (C)'].plot(ax=ax)\n",
    "ax.set_xlabel('')\n",
    "ax.set_ylabel(r'Sea water temperature ($^\\circ$C)')\n",
    "ax.set_title(value.title);"
   ]
  }
 ],
 "metadata": {
  "celltoolbar": "Slideshow",
  "kernelspec": {
   "display_name": "Python [default]",
   "language": "python",
   "name": "python3"
  },
  "language_info": {
   "codemirror_mode": {
    "name": "ipython",
    "version": 3
   },
   "file_extension": ".py",
   "mimetype": "text/x-python",
   "name": "python",
   "nbconvert_exporter": "python",
   "pygments_lexer": "ipython3",
   "version": "3.6.5"
  }
 },
 "nbformat": 4,
 "nbformat_minor": 2
}
